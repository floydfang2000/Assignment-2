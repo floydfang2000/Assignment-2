version https://git-lfs.github.com/spec/v1
oid sha256:60992779504dfea49320fcba958eae7706657f22a6bea3005680fc7c5e87f020
size 22986
