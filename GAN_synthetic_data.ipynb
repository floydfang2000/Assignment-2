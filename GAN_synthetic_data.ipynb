version https://git-lfs.github.com/spec/v1
oid sha256:37464122dbb12a4d57a7273b077280ca1881d8b16fc0cc1323c9491f3129c4b7
size 11323
