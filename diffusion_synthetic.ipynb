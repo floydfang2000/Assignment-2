version https://git-lfs.github.com/spec/v1
oid sha256:29f3412e2f9487b95564643fc07f2d5f90f95e92d43af5fa48224cf9809a2fe0
size 71887
